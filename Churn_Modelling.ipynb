{
 "cells": [
  {
   "cell_type": "code",
   "execution_count": 103,
   "metadata": {},
   "outputs": [
    {
     "name": "stdout",
     "output_type": "stream",
     "text": [
      "Requirement already satisfied: tensorflow in c:\\users\\sathw\\anaconda3\\lib\\site-packages (2.12.0)\n",
      "Requirement already satisfied: tensorflow-intel==2.12.0 in c:\\users\\sathw\\anaconda3\\lib\\site-packages (from tensorflow) (2.12.0)\n",
      "Requirement already satisfied: opt-einsum>=2.3.2 in c:\\users\\sathw\\anaconda3\\lib\\site-packages (from tensorflow-intel==2.12.0->tensorflow) (3.3.0)\n",
      "Requirement already satisfied: h5py>=2.9.0 in c:\\users\\sathw\\anaconda3\\lib\\site-packages (from tensorflow-intel==2.12.0->tensorflow) (3.7.0)\n",
      "Requirement already satisfied: six>=1.12.0 in c:\\users\\sathw\\anaconda3\\lib\\site-packages (from tensorflow-intel==2.12.0->tensorflow) (1.16.0)\n",
      "Requirement already satisfied: tensorboard<2.13,>=2.12 in c:\\users\\sathw\\anaconda3\\lib\\site-packages (from tensorflow-intel==2.12.0->tensorflow) (2.12.0)\n",
      "Requirement already satisfied: tensorflow-io-gcs-filesystem>=0.23.1 in c:\\users\\sathw\\anaconda3\\lib\\site-packages (from tensorflow-intel==2.12.0->tensorflow) (0.31.0)\n",
      "Requirement already satisfied: absl-py>=1.0.0 in c:\\users\\sathw\\anaconda3\\lib\\site-packages (from tensorflow-intel==2.12.0->tensorflow) (1.4.0)\n",
      "Requirement already satisfied: setuptools in c:\\users\\sathw\\anaconda3\\lib\\site-packages (from tensorflow-intel==2.12.0->tensorflow) (60.10.0)\n",
      "Requirement already satisfied: termcolor>=1.1.0 in c:\\users\\sathw\\anaconda3\\lib\\site-packages (from tensorflow-intel==2.12.0->tensorflow) (2.2.0)\n",
      "Requirement already satisfied: flatbuffers>=2.0 in c:\\users\\sathw\\anaconda3\\lib\\site-packages (from tensorflow-intel==2.12.0->tensorflow) (23.3.3)\n",
      "Requirement already satisfied: jax>=0.3.15 in c:\\users\\sathw\\anaconda3\\lib\\site-packages (from tensorflow-intel==2.12.0->tensorflow) (0.4.7)\n",
      "Requirement already satisfied: tensorflow-estimator<2.13,>=2.12.0 in c:\\users\\sathw\\anaconda3\\lib\\site-packages (from tensorflow-intel==2.12.0->tensorflow) (2.12.0)\n",
      "Requirement already satisfied: numpy<1.24,>=1.22 in c:\\users\\sathw\\anaconda3\\lib\\site-packages (from tensorflow-intel==2.12.0->tensorflow) (1.23.5)\n",
      "Requirement already satisfied: keras<2.13,>=2.12.0 in c:\\users\\sathw\\anaconda3\\lib\\site-packages (from tensorflow-intel==2.12.0->tensorflow) (2.12.0)\n",
      "Requirement already satisfied: packaging in c:\\users\\sathw\\anaconda3\\lib\\site-packages (from tensorflow-intel==2.12.0->tensorflow) (21.3)\n",
      "Requirement already satisfied: wrapt<1.15,>=1.11.0 in c:\\users\\sathw\\anaconda3\\lib\\site-packages (from tensorflow-intel==2.12.0->tensorflow) (1.14.1)\n",
      "Requirement already satisfied: astunparse>=1.6.0 in c:\\users\\sathw\\anaconda3\\lib\\site-packages (from tensorflow-intel==2.12.0->tensorflow) (1.6.3)\n",
      "Requirement already satisfied: grpcio<2.0,>=1.24.3 in c:\\users\\sathw\\anaconda3\\lib\\site-packages (from tensorflow-intel==2.12.0->tensorflow) (1.53.0)\n",
      "Requirement already satisfied: libclang>=13.0.0 in c:\\users\\sathw\\anaconda3\\lib\\site-packages (from tensorflow-intel==2.12.0->tensorflow) (16.0.0)\n",
      "Requirement already satisfied: protobuf!=4.21.0,!=4.21.1,!=4.21.2,!=4.21.3,!=4.21.4,!=4.21.5,<5.0.0dev,>=3.20.3 in c:\\users\\sathw\\anaconda3\\lib\\site-packages (from tensorflow-intel==2.12.0->tensorflow) (4.22.1)\n",
      "Requirement already satisfied: google-pasta>=0.1.1 in c:\\users\\sathw\\anaconda3\\lib\\site-packages (from tensorflow-intel==2.12.0->tensorflow) (0.2.0)\n",
      "Requirement already satisfied: gast<=0.4.0,>=0.2.1 in c:\\users\\sathw\\anaconda3\\lib\\site-packages (from tensorflow-intel==2.12.0->tensorflow) (0.4.0)\n",
      "Requirement already satisfied: typing-extensions>=3.6.6 in c:\\users\\sathw\\anaconda3\\lib\\site-packages (from tensorflow-intel==2.12.0->tensorflow) (4.3.0)\n",
      "Requirement already satisfied: wheel<1.0,>=0.23.0 in c:\\users\\sathw\\anaconda3\\lib\\site-packages (from astunparse>=1.6.0->tensorflow-intel==2.12.0->tensorflow) (0.37.1)\n",
      "Requirement already satisfied: scipy>=1.7 in c:\\users\\sathw\\anaconda3\\lib\\site-packages (from jax>=0.3.15->tensorflow-intel==2.12.0->tensorflow) (1.9.1)\n",
      "Requirement already satisfied: ml-dtypes>=0.0.3 in c:\\users\\sathw\\anaconda3\\lib\\site-packages (from jax>=0.3.15->tensorflow-intel==2.12.0->tensorflow) (0.0.4)\n",
      "Requirement already satisfied: google-auth-oauthlib<0.5,>=0.4.1 in c:\\users\\sathw\\anaconda3\\lib\\site-packages (from tensorboard<2.13,>=2.12->tensorflow-intel==2.12.0->tensorflow) (0.4.6)\n",
      "Requirement already satisfied: google-auth<3,>=1.6.3 in c:\\users\\sathw\\anaconda3\\lib\\site-packages (from tensorboard<2.13,>=2.12->tensorflow-intel==2.12.0->tensorflow) (2.16.3)\n",
      "Requirement already satisfied: tensorboard-data-server<0.8.0,>=0.7.0 in c:\\users\\sathw\\anaconda3\\lib\\site-packages (from tensorboard<2.13,>=2.12->tensorflow-intel==2.12.0->tensorflow) (0.7.0)\n",
      "Requirement already satisfied: markdown>=2.6.8 in c:\\users\\sathw\\anaconda3\\lib\\site-packages (from tensorboard<2.13,>=2.12->tensorflow-intel==2.12.0->tensorflow) (3.3.4)\n",
      "Requirement already satisfied: werkzeug>=1.0.1 in c:\\users\\sathw\\anaconda3\\lib\\site-packages (from tensorboard<2.13,>=2.12->tensorflow-intel==2.12.0->tensorflow) (2.0.3)\n",
      "Requirement already satisfied: requests<3,>=2.21.0 in c:\\users\\sathw\\anaconda3\\lib\\site-packages (from tensorboard<2.13,>=2.12->tensorflow-intel==2.12.0->tensorflow) (2.28.1)\n",
      "Requirement already satisfied: tensorboard-plugin-wit>=1.6.0 in c:\\users\\sathw\\anaconda3\\lib\\site-packages (from tensorboard<2.13,>=2.12->tensorflow-intel==2.12.0->tensorflow) (1.8.1)\n",
      "Requirement already satisfied: pyparsing!=3.0.5,>=2.0.2 in c:\\users\\sathw\\anaconda3\\lib\\site-packages (from packaging->tensorflow-intel==2.12.0->tensorflow) (3.0.9)\n",
      "Requirement already satisfied: pyasn1-modules>=0.2.1 in c:\\users\\sathw\\anaconda3\\lib\\site-packages (from google-auth<3,>=1.6.3->tensorboard<2.13,>=2.12->tensorflow-intel==2.12.0->tensorflow) (0.2.8)\n",
      "Requirement already satisfied: cachetools<6.0,>=2.0.0 in c:\\users\\sathw\\anaconda3\\lib\\site-packages (from google-auth<3,>=1.6.3->tensorboard<2.13,>=2.12->tensorflow-intel==2.12.0->tensorflow) (5.3.0)\n",
      "Requirement already satisfied: rsa<5,>=3.1.4 in c:\\users\\sathw\\anaconda3\\lib\\site-packages (from google-auth<3,>=1.6.3->tensorboard<2.13,>=2.12->tensorflow-intel==2.12.0->tensorflow) (4.9)\n",
      "Requirement already satisfied: requests-oauthlib>=0.7.0 in c:\\users\\sathw\\anaconda3\\lib\\site-packages (from google-auth-oauthlib<0.5,>=0.4.1->tensorboard<2.13,>=2.12->tensorflow-intel==2.12.0->tensorflow) (1.3.1)\n",
      "Requirement already satisfied: urllib3<1.27,>=1.21.1 in c:\\users\\sathw\\anaconda3\\lib\\site-packages (from requests<3,>=2.21.0->tensorboard<2.13,>=2.12->tensorflow-intel==2.12.0->tensorflow) (1.26.11)\n",
      "Requirement already satisfied: idna<4,>=2.5 in c:\\users\\sathw\\anaconda3\\lib\\site-packages (from requests<3,>=2.21.0->tensorboard<2.13,>=2.12->tensorflow-intel==2.12.0->tensorflow) (3.3)\n",
      "Requirement already satisfied: certifi>=2017.4.17 in c:\\users\\sathw\\anaconda3\\lib\\site-packages (from requests<3,>=2.21.0->tensorboard<2.13,>=2.12->tensorflow-intel==2.12.0->tensorflow) (2022.9.14)\n",
      "Requirement already satisfied: charset-normalizer<3,>=2 in c:\\users\\sathw\\anaconda3\\lib\\site-packages (from requests<3,>=2.21.0->tensorboard<2.13,>=2.12->tensorflow-intel==2.12.0->tensorflow) (2.0.4)\n",
      "Requirement already satisfied: pyasn1<0.5.0,>=0.4.6 in c:\\users\\sathw\\anaconda3\\lib\\site-packages (from pyasn1-modules>=0.2.1->google-auth<3,>=1.6.3->tensorboard<2.13,>=2.12->tensorflow-intel==2.12.0->tensorflow) (0.4.8)\n",
      "Requirement already satisfied: oauthlib>=3.0.0 in c:\\users\\sathw\\anaconda3\\lib\\site-packages (from requests-oauthlib>=0.7.0->google-auth-oauthlib<0.5,>=0.4.1->tensorboard<2.13,>=2.12->tensorflow-intel==2.12.0->tensorflow) (3.2.2)\n"
     ]
    }
   ],
   "source": [
    "!pip install tensorflow\n"
   ]
  },
  {
   "attachments": {},
   "cell_type": "markdown",
   "metadata": {},
   "source": [
    "#### Dataset is about if customer is quiting the bank or not"
   ]
  },
  {
   "cell_type": "code",
   "execution_count": 104,
   "metadata": {},
   "outputs": [
    {
     "name": "stdout",
     "output_type": "stream",
     "text": [
      "tf.Tensor(65.256256, shape=(), dtype=float32)\n"
     ]
    }
   ],
   "source": [
    "import tensorflow as tf \n",
    "print(tf.reduce_sum(tf.random.normal([1000, 1000])))"
   ]
  },
  {
   "cell_type": "code",
   "execution_count": 105,
   "metadata": {},
   "outputs": [
    {
     "name": "stdout",
     "output_type": "stream",
     "text": [
      "[]\n"
     ]
    }
   ],
   "source": [
    "import tensorflow as tf\n",
    "print(tf.config.list_physical_devices('GPU'))"
   ]
  },
  {
   "cell_type": "code",
   "execution_count": 106,
   "metadata": {},
   "outputs": [
    {
     "name": "stdout",
     "output_type": "stream",
     "text": [
      "2.12.0\n"
     ]
    }
   ],
   "source": [
    "print(tf.__version__)"
   ]
  },
  {
   "cell_type": "code",
   "execution_count": 107,
   "metadata": {},
   "outputs": [],
   "source": [
    "# Import necessary libraries\n",
    "import numpy as np\n",
    "import pandas as pd\n",
    "import matplotlib.pyplot as plt"
   ]
  },
  {
   "cell_type": "code",
   "execution_count": 108,
   "metadata": {},
   "outputs": [],
   "source": [
    "dataset = pd.read_csv('Churn_Modelling.csv')"
   ]
  },
  {
   "cell_type": "code",
   "execution_count": 109,
   "metadata": {},
   "outputs": [
    {
     "data": {
      "text/html": [
       "<div>\n",
       "<style scoped>\n",
       "    .dataframe tbody tr th:only-of-type {\n",
       "        vertical-align: middle;\n",
       "    }\n",
       "\n",
       "    .dataframe tbody tr th {\n",
       "        vertical-align: top;\n",
       "    }\n",
       "\n",
       "    .dataframe thead th {\n",
       "        text-align: right;\n",
       "    }\n",
       "</style>\n",
       "<table border=\"1\" class=\"dataframe\">\n",
       "  <thead>\n",
       "    <tr style=\"text-align: right;\">\n",
       "      <th></th>\n",
       "      <th>RowNumber</th>\n",
       "      <th>CustomerId</th>\n",
       "      <th>Surname</th>\n",
       "      <th>CreditScore</th>\n",
       "      <th>Geography</th>\n",
       "      <th>Gender</th>\n",
       "      <th>Age</th>\n",
       "      <th>Tenure</th>\n",
       "      <th>Balance</th>\n",
       "      <th>NumOfProducts</th>\n",
       "      <th>HasCrCard</th>\n",
       "      <th>IsActiveMember</th>\n",
       "      <th>EstimatedSalary</th>\n",
       "      <th>Exited</th>\n",
       "    </tr>\n",
       "  </thead>\n",
       "  <tbody>\n",
       "    <tr>\n",
       "      <th>0</th>\n",
       "      <td>1</td>\n",
       "      <td>15634602</td>\n",
       "      <td>Hargrave</td>\n",
       "      <td>619</td>\n",
       "      <td>France</td>\n",
       "      <td>Female</td>\n",
       "      <td>42</td>\n",
       "      <td>2</td>\n",
       "      <td>0.00</td>\n",
       "      <td>1</td>\n",
       "      <td>1</td>\n",
       "      <td>1</td>\n",
       "      <td>101348.88</td>\n",
       "      <td>1</td>\n",
       "    </tr>\n",
       "    <tr>\n",
       "      <th>1</th>\n",
       "      <td>2</td>\n",
       "      <td>15647311</td>\n",
       "      <td>Hill</td>\n",
       "      <td>608</td>\n",
       "      <td>Spain</td>\n",
       "      <td>Female</td>\n",
       "      <td>41</td>\n",
       "      <td>1</td>\n",
       "      <td>83807.86</td>\n",
       "      <td>1</td>\n",
       "      <td>0</td>\n",
       "      <td>1</td>\n",
       "      <td>112542.58</td>\n",
       "      <td>0</td>\n",
       "    </tr>\n",
       "    <tr>\n",
       "      <th>2</th>\n",
       "      <td>3</td>\n",
       "      <td>15619304</td>\n",
       "      <td>Onio</td>\n",
       "      <td>502</td>\n",
       "      <td>France</td>\n",
       "      <td>Female</td>\n",
       "      <td>42</td>\n",
       "      <td>8</td>\n",
       "      <td>159660.80</td>\n",
       "      <td>3</td>\n",
       "      <td>1</td>\n",
       "      <td>0</td>\n",
       "      <td>113931.57</td>\n",
       "      <td>1</td>\n",
       "    </tr>\n",
       "    <tr>\n",
       "      <th>3</th>\n",
       "      <td>4</td>\n",
       "      <td>15701354</td>\n",
       "      <td>Boni</td>\n",
       "      <td>699</td>\n",
       "      <td>France</td>\n",
       "      <td>Female</td>\n",
       "      <td>39</td>\n",
       "      <td>1</td>\n",
       "      <td>0.00</td>\n",
       "      <td>2</td>\n",
       "      <td>0</td>\n",
       "      <td>0</td>\n",
       "      <td>93826.63</td>\n",
       "      <td>0</td>\n",
       "    </tr>\n",
       "    <tr>\n",
       "      <th>4</th>\n",
       "      <td>5</td>\n",
       "      <td>15737888</td>\n",
       "      <td>Mitchell</td>\n",
       "      <td>850</td>\n",
       "      <td>Spain</td>\n",
       "      <td>Female</td>\n",
       "      <td>43</td>\n",
       "      <td>2</td>\n",
       "      <td>125510.82</td>\n",
       "      <td>1</td>\n",
       "      <td>1</td>\n",
       "      <td>1</td>\n",
       "      <td>79084.10</td>\n",
       "      <td>0</td>\n",
       "    </tr>\n",
       "  </tbody>\n",
       "</table>\n",
       "</div>"
      ],
      "text/plain": [
       "   RowNumber  CustomerId   Surname  CreditScore Geography  Gender  Age  \\\n",
       "0          1    15634602  Hargrave          619    France  Female   42   \n",
       "1          2    15647311      Hill          608     Spain  Female   41   \n",
       "2          3    15619304      Onio          502    France  Female   42   \n",
       "3          4    15701354      Boni          699    France  Female   39   \n",
       "4          5    15737888  Mitchell          850     Spain  Female   43   \n",
       "\n",
       "   Tenure    Balance  NumOfProducts  HasCrCard  IsActiveMember  \\\n",
       "0       2       0.00              1          1               1   \n",
       "1       1   83807.86              1          0               1   \n",
       "2       8  159660.80              3          1               0   \n",
       "3       1       0.00              2          0               0   \n",
       "4       2  125510.82              1          1               1   \n",
       "\n",
       "   EstimatedSalary  Exited  \n",
       "0        101348.88       1  \n",
       "1        112542.58       0  \n",
       "2        113931.57       1  \n",
       "3         93826.63       0  \n",
       "4         79084.10       0  "
      ]
     },
     "execution_count": 109,
     "metadata": {},
     "output_type": "execute_result"
    }
   ],
   "source": [
    "dataset.head()"
   ]
  },
  {
   "cell_type": "code",
   "execution_count": 110,
   "metadata": {},
   "outputs": [],
   "source": [
    "# Split the dataset in dependent and independent features\n",
    "X = dataset.iloc[:,3:13]  # RowNumber, customerId and Surname is not important here\n",
    "y = dataset.iloc[:,13]"
   ]
  },
  {
   "cell_type": "code",
   "execution_count": 111,
   "metadata": {},
   "outputs": [
    {
     "name": "stdout",
     "output_type": "stream",
     "text": [
      "X features    CreditScore Geography  Gender  Age  Tenure    Balance  NumOfProducts  \\\n",
      "0          619    France  Female   42       2       0.00              1   \n",
      "1          608     Spain  Female   41       1   83807.86              1   \n",
      "2          502    France  Female   42       8  159660.80              3   \n",
      "3          699    France  Female   39       1       0.00              2   \n",
      "4          850     Spain  Female   43       2  125510.82              1   \n",
      "\n",
      "   HasCrCard  IsActiveMember  EstimatedSalary  \n",
      "0          1               1        101348.88  \n",
      "1          0               1        112542.58  \n",
      "2          1               0        113931.57  \n",
      "3          0               0         93826.63  \n",
      "4          1               1         79084.10  \n"
     ]
    }
   ],
   "source": [
    "print('X features', X.head())\n"
   ]
  },
  {
   "cell_type": "code",
   "execution_count": 112,
   "metadata": {},
   "outputs": [
    {
     "name": "stdout",
     "output_type": "stream",
     "text": [
      "y feature 0    1\n",
      "1    0\n",
      "2    1\n",
      "3    0\n",
      "4    0\n",
      "Name: Exited, dtype: int64\n"
     ]
    }
   ],
   "source": [
    "print('y feature', y.head())"
   ]
  },
  {
   "cell_type": "code",
   "execution_count": 113,
   "metadata": {},
   "outputs": [],
   "source": [
    "# Feature engineering\n",
    "geography = pd.get_dummies(X['Geography'], drop_first=True)   #drop_first drops first column and shows other two columns, if first column is there it will show 0 for other 2 columns\n",
    "gender = pd.get_dummies(X['Gender'],drop_first=True)\n"
   ]
  },
  {
   "cell_type": "code",
   "execution_count": 114,
   "metadata": {},
   "outputs": [],
   "source": [
    "# Concanate these features with original dataset\n",
    "X = X.drop(['Geography','Gender'], axis=1) # first drop columns not needed here geography column created with feature engineering\n"
   ]
  },
  {
   "cell_type": "code",
   "execution_count": 115,
   "metadata": {},
   "outputs": [],
   "source": [
    "X = pd.concat([X,geography,gender], axis=1)"
   ]
  },
  {
   "cell_type": "code",
   "execution_count": 116,
   "metadata": {},
   "outputs": [],
   "source": [
    "# Spliting the dataset into Trianing and testing dataset\n",
    "from sklearn.model_selection import train_test_split\n",
    "\n",
    "X_train, X_test, y_train, y_test = train_test_split(X, y, test_size=0.2, random_state=0)"
   ]
  },
  {
   "cell_type": "code",
   "execution_count": 117,
   "metadata": {},
   "outputs": [],
   "source": [
    "# Feature Scaling\n",
    "from sklearn.preprocessing import StandardScaler\n",
    "sc = StandardScaler()\n",
    "X_train = sc.fit_transform(X_train)\n",
    "X_test = sc.transform(X_test)"
   ]
  },
  {
   "cell_type": "code",
   "execution_count": 118,
   "metadata": {},
   "outputs": [
    {
     "data": {
      "text/plain": [
       "(8000, 11)"
      ]
     },
     "execution_count": 118,
     "metadata": {},
     "output_type": "execute_result"
    }
   ],
   "source": [
    "X_train.shape"
   ]
  },
  {
   "cell_type": "code",
   "execution_count": 119,
   "metadata": {},
   "outputs": [],
   "source": [
    "# Lets create th ANN\n",
    "from tensorflow.keras.models import Sequential\n",
    "from tensorflow.keras.layers import Dense, LeakyReLU, PReLU, ELU, ReLU, Dropout"
   ]
  },
  {
   "cell_type": "code",
   "execution_count": 120,
   "metadata": {},
   "outputs": [],
   "source": [
    "# Initialise the ANN\n",
    "classifier = Sequential()"
   ]
  },
  {
   "cell_type": "code",
   "execution_count": 121,
   "metadata": {},
   "outputs": [],
   "source": [
    "# Add the input layer\n",
    "classifier.add(Dense(units = 11, activation = 'relu')) # units = 11 because our dataset has 11 inputs\n"
   ]
  },
  {
   "cell_type": "code",
   "execution_count": 122,
   "metadata": {},
   "outputs": [],
   "source": [
    "# Adding first hidden layer\n",
    "classifier.add(Dense(units = 7, activation = 'relu'))\n",
    "classifier.add(Dropout(0.2))"
   ]
  },
  {
   "cell_type": "code",
   "execution_count": 123,
   "metadata": {},
   "outputs": [],
   "source": [
    "# Adding second hidden layer\n",
    "classifier.add(Dense(units = 6, activation ='relu'))\n",
    "classifier.add(Dropout(0.3))"
   ]
  },
  {
   "cell_type": "code",
   "execution_count": 124,
   "metadata": {},
   "outputs": [],
   "source": [
    "# Adding the output layer\n",
    "classifier.add(Dense(1,activation = 'sigmoid'))"
   ]
  },
  {
   "cell_type": "code",
   "execution_count": 125,
   "metadata": {},
   "outputs": [],
   "source": [
    "classifier.compile(optimizer='adam', loss ='binary_crossentropy', metrics = ['accuracy'])"
   ]
  },
  {
   "cell_type": "code",
   "execution_count": 126,
   "metadata": {},
   "outputs": [],
   "source": [
    "import tensorflow\n",
    "opt = tensorflow.keras.optimizers.Adam(learning_rate=0.01)"
   ]
  },
  {
   "cell_type": "code",
   "execution_count": 127,
   "metadata": {},
   "outputs": [],
   "source": [
    "## Early stopping\n",
    "early_stopping =tf.keras.callbacks.EarlyStopping(\n",
    "    monitor='val_loss',\n",
    "    min_delta=0.0001,\n",
    "    patience=20,\n",
    "    verbose=1,\n",
    "    mode='auto',\n",
    "    baseline=None,\n",
    "    restore_best_weights=False,\n",
    ")"
   ]
  },
  {
   "cell_type": "code",
   "execution_count": 128,
   "metadata": {},
   "outputs": [
    {
     "name": "stdout",
     "output_type": "stream",
     "text": [
      "Epoch 1/1000\n",
      "536/536 [==============================] - 2s 3ms/step - loss: 0.5678 - accuracy: 0.7774 - val_loss: 0.4711 - val_accuracy: 0.7955\n",
      "Epoch 2/1000\n",
      "536/536 [==============================] - 2s 3ms/step - loss: 0.4769 - accuracy: 0.7949 - val_loss: 0.4415 - val_accuracy: 0.7974\n",
      "Epoch 3/1000\n",
      "536/536 [==============================] - 1s 2ms/step - loss: 0.4606 - accuracy: 0.8001 - val_loss: 0.4301 - val_accuracy: 0.8020\n",
      "Epoch 4/1000\n",
      "536/536 [==============================] - 1s 3ms/step - loss: 0.4410 - accuracy: 0.8046 - val_loss: 0.4175 - val_accuracy: 0.8129\n",
      "Epoch 5/1000\n",
      "536/536 [==============================] - 1s 3ms/step - loss: 0.4256 - accuracy: 0.8160 - val_loss: 0.4036 - val_accuracy: 0.8224\n",
      "Epoch 6/1000\n",
      "536/536 [==============================] - 1s 2ms/step - loss: 0.4192 - accuracy: 0.8233 - val_loss: 0.3922 - val_accuracy: 0.8296\n",
      "Epoch 7/1000\n",
      "536/536 [==============================] - 1s 3ms/step - loss: 0.4048 - accuracy: 0.8330 - val_loss: 0.3839 - val_accuracy: 0.8349\n",
      "Epoch 8/1000\n",
      "536/536 [==============================] - 1s 3ms/step - loss: 0.3998 - accuracy: 0.8349 - val_loss: 0.3787 - val_accuracy: 0.8398\n",
      "Epoch 9/1000\n",
      "536/536 [==============================] - 1s 3ms/step - loss: 0.3913 - accuracy: 0.8358 - val_loss: 0.3746 - val_accuracy: 0.8448\n",
      "Epoch 10/1000\n",
      "536/536 [==============================] - 1s 2ms/step - loss: 0.3859 - accuracy: 0.8339 - val_loss: 0.3719 - val_accuracy: 0.8455\n",
      "Epoch 11/1000\n",
      "536/536 [==============================] - 1s 3ms/step - loss: 0.3844 - accuracy: 0.8393 - val_loss: 0.3714 - val_accuracy: 0.8425\n",
      "Epoch 12/1000\n",
      "536/536 [==============================] - 1s 2ms/step - loss: 0.3829 - accuracy: 0.8436 - val_loss: 0.3687 - val_accuracy: 0.8410\n",
      "Epoch 13/1000\n",
      "536/536 [==============================] - 1s 2ms/step - loss: 0.3801 - accuracy: 0.8388 - val_loss: 0.3675 - val_accuracy: 0.8448\n",
      "Epoch 14/1000\n",
      "536/536 [==============================] - 1s 3ms/step - loss: 0.3760 - accuracy: 0.8399 - val_loss: 0.3656 - val_accuracy: 0.8444\n",
      "Epoch 15/1000\n",
      "536/536 [==============================] - 1s 3ms/step - loss: 0.3648 - accuracy: 0.8416 - val_loss: 0.3628 - val_accuracy: 0.8413\n",
      "Epoch 16/1000\n",
      "536/536 [==============================] - 1s 2ms/step - loss: 0.3664 - accuracy: 0.8418 - val_loss: 0.3612 - val_accuracy: 0.8485\n",
      "Epoch 17/1000\n",
      "536/536 [==============================] - 2s 3ms/step - loss: 0.3617 - accuracy: 0.8461 - val_loss: 0.3612 - val_accuracy: 0.8501\n",
      "Epoch 18/1000\n",
      "536/536 [==============================] - 2s 3ms/step - loss: 0.3637 - accuracy: 0.8453 - val_loss: 0.3611 - val_accuracy: 0.8501\n",
      "Epoch 19/1000\n",
      "536/536 [==============================] - 2s 4ms/step - loss: 0.3674 - accuracy: 0.8461 - val_loss: 0.3634 - val_accuracy: 0.8493\n",
      "Epoch 20/1000\n",
      "536/536 [==============================] - 2s 4ms/step - loss: 0.3662 - accuracy: 0.8447 - val_loss: 0.3618 - val_accuracy: 0.8504\n",
      "Epoch 21/1000\n",
      "536/536 [==============================] - 3s 5ms/step - loss: 0.3683 - accuracy: 0.8423 - val_loss: 0.3625 - val_accuracy: 0.8504\n",
      "Epoch 22/1000\n",
      "536/536 [==============================] - 3s 5ms/step - loss: 0.3639 - accuracy: 0.8419 - val_loss: 0.3607 - val_accuracy: 0.8504\n",
      "Epoch 23/1000\n",
      "536/536 [==============================] - 3s 5ms/step - loss: 0.3663 - accuracy: 0.8425 - val_loss: 0.3617 - val_accuracy: 0.8508\n",
      "Epoch 24/1000\n",
      "536/536 [==============================] - 3s 5ms/step - loss: 0.3666 - accuracy: 0.8421 - val_loss: 0.3609 - val_accuracy: 0.8493\n",
      "Epoch 25/1000\n",
      "536/536 [==============================] - 3s 5ms/step - loss: 0.3675 - accuracy: 0.8427 - val_loss: 0.3617 - val_accuracy: 0.8497\n",
      "Epoch 26/1000\n",
      "536/536 [==============================] - 3s 5ms/step - loss: 0.3609 - accuracy: 0.8449 - val_loss: 0.3599 - val_accuracy: 0.8519\n",
      "Epoch 27/1000\n",
      "536/536 [==============================] - 2s 5ms/step - loss: 0.3577 - accuracy: 0.8475 - val_loss: 0.3578 - val_accuracy: 0.8504\n",
      "Epoch 28/1000\n",
      "536/536 [==============================] - 2s 5ms/step - loss: 0.3655 - accuracy: 0.8418 - val_loss: 0.3598 - val_accuracy: 0.8489\n",
      "Epoch 29/1000\n",
      "536/536 [==============================] - 2s 4ms/step - loss: 0.3583 - accuracy: 0.8447 - val_loss: 0.3618 - val_accuracy: 0.8493\n",
      "Epoch 30/1000\n",
      "536/536 [==============================] - 3s 5ms/step - loss: 0.3623 - accuracy: 0.8418 - val_loss: 0.3599 - val_accuracy: 0.8504\n",
      "Epoch 31/1000\n",
      "536/536 [==============================] - 3s 5ms/step - loss: 0.3601 - accuracy: 0.8474 - val_loss: 0.3604 - val_accuracy: 0.8478\n",
      "Epoch 32/1000\n",
      "536/536 [==============================] - 3s 5ms/step - loss: 0.3681 - accuracy: 0.8431 - val_loss: 0.3628 - val_accuracy: 0.8493\n",
      "Epoch 33/1000\n",
      "536/536 [==============================] - 3s 5ms/step - loss: 0.3635 - accuracy: 0.8414 - val_loss: 0.3597 - val_accuracy: 0.8523\n",
      "Epoch 34/1000\n",
      "536/536 [==============================] - 3s 5ms/step - loss: 0.3639 - accuracy: 0.8408 - val_loss: 0.3585 - val_accuracy: 0.8527\n",
      "Epoch 35/1000\n",
      "536/536 [==============================] - 3s 5ms/step - loss: 0.3605 - accuracy: 0.8444 - val_loss: 0.3582 - val_accuracy: 0.8508\n",
      "Epoch 36/1000\n",
      "536/536 [==============================] - 2s 4ms/step - loss: 0.3612 - accuracy: 0.8459 - val_loss: 0.3596 - val_accuracy: 0.8508\n",
      "Epoch 37/1000\n",
      "536/536 [==============================] - 3s 5ms/step - loss: 0.3660 - accuracy: 0.8440 - val_loss: 0.3605 - val_accuracy: 0.8527\n",
      "Epoch 38/1000\n",
      "536/536 [==============================] - 2s 5ms/step - loss: 0.3585 - accuracy: 0.8490 - val_loss: 0.3598 - val_accuracy: 0.8516\n",
      "Epoch 39/1000\n",
      "536/536 [==============================] - 2s 5ms/step - loss: 0.3565 - accuracy: 0.8485 - val_loss: 0.3590 - val_accuracy: 0.8523\n",
      "Epoch 40/1000\n",
      "536/536 [==============================] - 2s 5ms/step - loss: 0.3550 - accuracy: 0.8470 - val_loss: 0.3612 - val_accuracy: 0.8504\n",
      "Epoch 41/1000\n",
      "536/536 [==============================] - 2s 4ms/step - loss: 0.3544 - accuracy: 0.8524 - val_loss: 0.3561 - val_accuracy: 0.8535\n",
      "Epoch 42/1000\n",
      "536/536 [==============================] - 3s 5ms/step - loss: 0.3607 - accuracy: 0.8451 - val_loss: 0.3564 - val_accuracy: 0.8535\n",
      "Epoch 43/1000\n",
      "536/536 [==============================] - 2s 4ms/step - loss: 0.3579 - accuracy: 0.8438 - val_loss: 0.3589 - val_accuracy: 0.8516\n",
      "Epoch 44/1000\n",
      "536/536 [==============================] - 3s 5ms/step - loss: 0.3587 - accuracy: 0.8447 - val_loss: 0.3584 - val_accuracy: 0.8504\n",
      "Epoch 45/1000\n",
      "536/536 [==============================] - 2s 5ms/step - loss: 0.3527 - accuracy: 0.8472 - val_loss: 0.3557 - val_accuracy: 0.8523\n",
      "Epoch 46/1000\n",
      "536/536 [==============================] - 2s 3ms/step - loss: 0.3600 - accuracy: 0.8423 - val_loss: 0.3570 - val_accuracy: 0.8516\n",
      "Epoch 47/1000\n",
      "536/536 [==============================] - 2s 5ms/step - loss: 0.3533 - accuracy: 0.8507 - val_loss: 0.3569 - val_accuracy: 0.8519\n",
      "Epoch 48/1000\n",
      "536/536 [==============================] - 2s 4ms/step - loss: 0.3549 - accuracy: 0.8477 - val_loss: 0.3584 - val_accuracy: 0.8523\n",
      "Epoch 49/1000\n",
      "536/536 [==============================] - 2s 4ms/step - loss: 0.3592 - accuracy: 0.8433 - val_loss: 0.3610 - val_accuracy: 0.8523\n",
      "Epoch 50/1000\n",
      "536/536 [==============================] - 2s 4ms/step - loss: 0.3584 - accuracy: 0.8466 - val_loss: 0.3557 - val_accuracy: 0.8542\n",
      "Epoch 51/1000\n",
      "536/536 [==============================] - 3s 5ms/step - loss: 0.3533 - accuracy: 0.8446 - val_loss: 0.3571 - val_accuracy: 0.8561\n",
      "Epoch 52/1000\n",
      "536/536 [==============================] - 2s 4ms/step - loss: 0.3579 - accuracy: 0.8470 - val_loss: 0.3576 - val_accuracy: 0.8531\n",
      "Epoch 53/1000\n",
      "536/536 [==============================] - 2s 5ms/step - loss: 0.3584 - accuracy: 0.8446 - val_loss: 0.3570 - val_accuracy: 0.8501\n",
      "Epoch 54/1000\n",
      "536/536 [==============================] - 2s 3ms/step - loss: 0.3601 - accuracy: 0.8433 - val_loss: 0.3576 - val_accuracy: 0.8512\n",
      "Epoch 55/1000\n",
      "536/536 [==============================] - 2s 3ms/step - loss: 0.3540 - accuracy: 0.8494 - val_loss: 0.3570 - val_accuracy: 0.8531\n",
      "Epoch 56/1000\n",
      "536/536 [==============================] - 2s 4ms/step - loss: 0.3535 - accuracy: 0.8500 - val_loss: 0.3563 - val_accuracy: 0.8546\n",
      "Epoch 57/1000\n",
      "536/536 [==============================] - 3s 5ms/step - loss: 0.3599 - accuracy: 0.8401 - val_loss: 0.3572 - val_accuracy: 0.8527\n",
      "Epoch 58/1000\n",
      "536/536 [==============================] - 2s 5ms/step - loss: 0.3552 - accuracy: 0.8481 - val_loss: 0.3609 - val_accuracy: 0.8478\n",
      "Epoch 59/1000\n",
      "536/536 [==============================] - 2s 3ms/step - loss: 0.3542 - accuracy: 0.8522 - val_loss: 0.3567 - val_accuracy: 0.8527\n",
      "Epoch 60/1000\n",
      "536/536 [==============================] - 1s 3ms/step - loss: 0.3565 - accuracy: 0.8489 - val_loss: 0.3578 - val_accuracy: 0.8504\n",
      "Epoch 61/1000\n",
      "536/536 [==============================] - 1s 3ms/step - loss: 0.3597 - accuracy: 0.8464 - val_loss: 0.3541 - val_accuracy: 0.8519\n",
      "Epoch 62/1000\n",
      "536/536 [==============================] - 1s 3ms/step - loss: 0.3544 - accuracy: 0.8483 - val_loss: 0.3555 - val_accuracy: 0.8523\n",
      "Epoch 63/1000\n",
      "536/536 [==============================] - 1s 2ms/step - loss: 0.3517 - accuracy: 0.8500 - val_loss: 0.3573 - val_accuracy: 0.8531\n",
      "Epoch 64/1000\n",
      "536/536 [==============================] - 2s 3ms/step - loss: 0.3560 - accuracy: 0.8477 - val_loss: 0.3595 - val_accuracy: 0.8463\n",
      "Epoch 65/1000\n",
      "536/536 [==============================] - 1s 3ms/step - loss: 0.3563 - accuracy: 0.8433 - val_loss: 0.3568 - val_accuracy: 0.8538\n",
      "Epoch 66/1000\n",
      "536/536 [==============================] - 2s 4ms/step - loss: 0.3536 - accuracy: 0.8502 - val_loss: 0.3577 - val_accuracy: 0.8542\n",
      "Epoch 67/1000\n",
      "536/536 [==============================] - 2s 4ms/step - loss: 0.3549 - accuracy: 0.8464 - val_loss: 0.3583 - val_accuracy: 0.8489\n",
      "Epoch 68/1000\n",
      "536/536 [==============================] - 2s 4ms/step - loss: 0.3529 - accuracy: 0.8479 - val_loss: 0.3543 - val_accuracy: 0.8538\n",
      "Epoch 69/1000\n",
      "536/536 [==============================] - 2s 5ms/step - loss: 0.3550 - accuracy: 0.8477 - val_loss: 0.3575 - val_accuracy: 0.8489\n",
      "Epoch 70/1000\n",
      "536/536 [==============================] - 3s 5ms/step - loss: 0.3581 - accuracy: 0.8455 - val_loss: 0.3590 - val_accuracy: 0.8482\n",
      "Epoch 71/1000\n",
      "536/536 [==============================] - 2s 4ms/step - loss: 0.3538 - accuracy: 0.8447 - val_loss: 0.3576 - val_accuracy: 0.8501\n",
      "Epoch 72/1000\n",
      "536/536 [==============================] - 2s 5ms/step - loss: 0.3493 - accuracy: 0.8475 - val_loss: 0.3596 - val_accuracy: 0.8478\n",
      "Epoch 73/1000\n",
      "536/536 [==============================] - 3s 5ms/step - loss: 0.3533 - accuracy: 0.8528 - val_loss: 0.3575 - val_accuracy: 0.8512\n",
      "Epoch 74/1000\n",
      "536/536 [==============================] - 2s 4ms/step - loss: 0.3529 - accuracy: 0.8490 - val_loss: 0.3549 - val_accuracy: 0.8527\n",
      "Epoch 75/1000\n",
      "536/536 [==============================] - 2s 5ms/step - loss: 0.3533 - accuracy: 0.8406 - val_loss: 0.3569 - val_accuracy: 0.8501\n",
      "Epoch 76/1000\n",
      "536/536 [==============================] - 3s 5ms/step - loss: 0.3568 - accuracy: 0.8403 - val_loss: 0.3579 - val_accuracy: 0.8489\n",
      "Epoch 77/1000\n",
      "536/536 [==============================] - 2s 4ms/step - loss: 0.3545 - accuracy: 0.8444 - val_loss: 0.3604 - val_accuracy: 0.8455\n",
      "Epoch 78/1000\n",
      "536/536 [==============================] - 3s 5ms/step - loss: 0.3548 - accuracy: 0.8474 - val_loss: 0.3595 - val_accuracy: 0.8432\n",
      "Epoch 79/1000\n",
      "536/536 [==============================] - 3s 5ms/step - loss: 0.3557 - accuracy: 0.8457 - val_loss: 0.3586 - val_accuracy: 0.8463\n",
      "Epoch 80/1000\n",
      "536/536 [==============================] - 2s 3ms/step - loss: 0.3601 - accuracy: 0.8414 - val_loss: 0.3579 - val_accuracy: 0.8512\n",
      "Epoch 81/1000\n",
      "536/536 [==============================] - 2s 4ms/step - loss: 0.3515 - accuracy: 0.8446 - val_loss: 0.3576 - val_accuracy: 0.8489\n",
      "Epoch 81: early stopping\n"
     ]
    }
   ],
   "source": [
    "# Train the model\n",
    "model_history = classifier.fit(X_train,y_train, validation_split=0.33, batch_size=10, epochs=1000,callbacks=early_stopping)"
   ]
  },
  {
   "cell_type": "code",
   "execution_count": 129,
   "metadata": {},
   "outputs": [
    {
     "data": {
      "text/plain": [
       "dict_keys(['loss', 'accuracy', 'val_loss', 'val_accuracy'])"
      ]
     },
     "execution_count": 129,
     "metadata": {},
     "output_type": "execute_result"
    }
   ],
   "source": [
    "model_history.history.keys()"
   ]
  },
  {
   "cell_type": "code",
   "execution_count": 130,
   "metadata": {},
   "outputs": [
    {
     "data": {
      "image/png": "[encoded data removed]",
      "text/plain": [
       "<Figure size 640x480 with 1 Axes>"
      ]
     },
     "metadata": {},
     "output_type": "display_data"
    }
   ],
   "source": [
    "# summarize history for accuracy\n",
    "plt.plot(model_history.history['accuracy'])\n",
    "plt.plot(model_history.history['val_accuracy'])\n",
    "plt.title('model accuracy')\n",
    "plt.ylabel('accuracy')\n",
    "plt.xlabel('epoch')\n",
    "plt.legend(['train', 'test'], loc='upper left')\n",
    "plt.show()"
   ]
  },
  {
   "cell_type": "code",
   "execution_count": 131,
   "metadata": {},
   "outputs": [
    {
     "data": {
      "image/png": "[encoded data removed]",
      "text/plain": [
       "<Figure size 640x480 with 1 Axes>"
      ]
     },
     "metadata": {},
     "output_type": "display_data"
    }
   ],
   "source": [
    "# summarize history for loss\n",
    "plt.plot(model_history.history['loss'])\n",
    "plt.plot(model_history.history['val_loss'])\n",
    "plt.title('model loss')\n",
    "plt.ylabel('loss')\n",
    "plt.xlabel('epoch')\n",
    "plt.legend(['train', 'test'], loc='upper left')\n",
    "plt.show()"
   ]
  },
  {
   "cell_type": "code",
   "execution_count": 132,
   "metadata": {},
   "outputs": [
    {
     "name": "stdout",
     "output_type": "stream",
     "text": [
      "63/63 [==============================] - 0s 3ms/step\n"
     ]
    }
   ],
   "source": [
    "#Making the predictions and evaluating the model\n",
    "\n",
    "# Predicting the Test set results\n",
    "y_pred = classifier.predict(X_test)\n",
    "y_pred = (y_pred > 0.5)"
   ]
  },
  {
   "cell_type": "code",
   "execution_count": 133,
   "metadata": {},
   "outputs": [
    {
     "data": {
      "text/plain": [
       "array([[1551,   44],\n",
       "       [ 228,  177]], dtype=int64)"
      ]
     },
     "execution_count": 133,
     "metadata": {},
     "output_type": "execute_result"
    }
   ],
   "source": [
    "# confusion matrix\n",
    "from sklearn.metrics import confusion_matrix\n",
    "cm = confusion_matrix(y_test,y_pred)\n",
    "cm"
   ]
  },
  {
   "cell_type": "code",
   "execution_count": 134,
   "metadata": {},
   "outputs": [
    {
     "data": {
      "text/plain": [
       "0.864"
      ]
     },
     "execution_count": 134,
     "metadata": {},
     "output_type": "execute_result"
    }
   ],
   "source": [
    "# calculate the Accuracy\n",
    "from sklearn.metrics import accuracy_score\n",
    "score = accuracy_score(y_pred, y_test)\n",
    "score"
   ]
  },
  {
   "cell_type": "code",
   "execution_count": 135,
   "metadata": {},
   "outputs": [
    {
     "data": {
      "text/plain": [
       "[array([[-0.10388856,  0.2663123 ,  0.01592066,  0.02718878,  0.18710914,\n",
       "          0.1866707 , -0.17722736, -0.0934173 ,  0.02899849,  0.02342075,\n",
       "          0.18078709],\n",
       "        [-0.2782781 ,  0.4518936 ,  0.2608599 , -0.9962287 , -0.05910594,\n",
       "          0.25602788,  0.30085233, -0.6073115 ,  0.04586725,  0.49583635,\n",
       "          0.3383977 ],\n",
       "        [ 0.04439367,  0.22727726,  0.13388953,  0.02767372, -0.14233702,\n",
       "         -0.1060189 , -0.21326892, -0.30349848, -0.08262709, -0.24133322,\n",
       "          0.35654286],\n",
       "        [-0.81694895, -0.35634473, -0.4744143 ,  0.02021589,  0.07376603,\n",
       "         -0.55282724,  0.5566044 , -0.7799444 ,  0.15146087,  0.8109835 ,\n",
       "          0.5267162 ],\n",
       "        [-0.19089435, -0.10815969, -1.1329364 ,  0.13867715, -1.0940863 ,\n",
       "          0.03423579, -0.82332176,  0.4231657 ,  1.22905   ,  0.2671525 ,\n",
       "          0.10133717],\n",
       "        [-0.2818143 ,  0.01960706, -0.04898877, -0.09477287, -0.26973027,\n",
       "         -0.05126682, -0.26769766, -0.14771387, -0.06785186, -0.18673286,\n",
       "          0.21413061],\n",
       "        [-0.3261836 ,  0.49739876, -0.585174  , -0.36156708, -0.23079425,\n",
       "          0.4396634 ,  0.49023467, -0.24380058, -0.2866187 , -0.00770645,\n",
       "          0.02424898],\n",
       "        [-0.20257363, -0.01570229,  0.03804271, -0.02265836,  0.20630367,\n",
       "          0.19560263, -0.03412757, -0.19736657, -0.0353025 ,  0.03421067,\n",
       "          0.20828815],\n",
       "        [ 0.43198818, -0.39101157,  0.35262752, -0.18629238, -0.40169078,\n",
       "          0.5693373 , -0.63295186,  0.21622406, -0.15660027,  0.22617055,\n",
       "          0.650795  ],\n",
       "        [ 0.3436389 ,  0.13078196,  0.02208861, -0.16531068, -0.00832306,\n",
       "         -0.53397614, -0.01534029,  0.37882602,  0.07733293, -0.18330584,\n",
       "         -0.05308485],\n",
       "        [ 0.3985134 ,  0.49370363,  0.15582842,  0.19438538,  0.25528374,\n",
       "          0.3495554 ,  0.16605833, -0.24679399,  0.12030307, -0.01694395,\n",
       "         -0.44036916]], dtype=float32),\n",
       " array([-0.320161  ,  0.41836715,  0.20404428,  1.1996536 ,  0.02627658,\n",
       "         0.0457057 ,  0.08854286, -0.13997634, -0.68541497, -0.25880927,\n",
       "        -0.04637689], dtype=float32),\n",
       " array([[ 0.01429025,  0.30287978, -0.65534484,  0.21229425,  0.0813929 ,\n",
       "          0.32904485,  0.5314764 ],\n",
       "        [ 0.5460806 ,  0.36066177,  0.36902136, -0.33221966,  0.1986664 ,\n",
       "          0.16299808,  0.21790682],\n",
       "        [-0.41249868, -0.9339877 , -0.14522798,  0.4552009 ,  0.40678552,\n",
       "         -0.6422037 , -0.2631537 ],\n",
       "        [ 0.64720464,  0.44571218,  0.20988907, -0.82924783, -0.28657883,\n",
       "          0.40327045, -0.00437313],\n",
       "        [-0.12445718, -0.7296746 ,  0.09643864,  0.46235913,  0.01391132,\n",
       "          0.12449148, -0.5217042 ],\n",
       "        [-0.10976901,  0.20601206, -0.79762924, -0.41543218, -0.10515952,\n",
       "         -0.01958535,  0.6656049 ],\n",
       "        [-0.08038449, -0.32076246,  0.16610955, -0.25159585, -0.06449004,\n",
       "         -0.24175915, -0.76829845],\n",
       "        [ 0.2355893 ,  0.00449826, -0.1308008 , -0.53166676,  0.11340236,\n",
       "         -0.17930295,  0.10079499],\n",
       "        [-0.977712  , -0.7212374 , -0.3981733 ,  1.2445812 , -0.73246616,\n",
       "         -0.58517045, -0.42380977],\n",
       "        [ 0.29416922,  0.17952302, -1.0261629 ,  0.3976364 , -1.0396403 ,\n",
       "         -0.21486555, -0.45957568],\n",
       "        [ 0.01885864, -0.20626488, -0.4611141 , -0.24244775, -1.2240984 ,\n",
       "         -0.0960347 , -0.17568888]], dtype=float32),\n",
       " array([-0.0385604 ,  0.15895656,  0.03062627, -0.22542031, -0.1388377 ,\n",
       "         0.4642766 ,  0.00707292], dtype=float32),\n",
       " array([[-0.54307693,  0.27041936, -0.3793042 ,  0.20672075, -0.6908231 ,\n",
       "          0.16757698],\n",
       "        [-0.8259343 ,  0.4847205 , -0.00696602,  0.3645573 , -1.074535  ,\n",
       "          0.3332821 ],\n",
       "        [-0.96217   ,  0.7190147 ,  0.23656482,  0.68472505, -1.422677  ,\n",
       "          0.5948127 ],\n",
       "        [ 1.0931821 , -0.17567603, -0.20978166, -0.910961  ,  0.7424308 ,\n",
       "         -0.8388382 ],\n",
       "        [ 0.26769638, -0.72045386,  0.00227095, -0.729169  ,  0.20276925,\n",
       "         -0.61276203],\n",
       "        [-0.95905036,  0.4547475 , -0.62955207,  0.28508055, -1.4701811 ,\n",
       "          0.25303537],\n",
       "        [-0.6036001 ,  1.0739323 ,  0.11451375,  0.80230963, -1.1072189 ,\n",
       "          0.7032467 ]], dtype=float32),\n",
       " array([ 0.32092845, -0.00464775, -0.44992065, -0.00139167,  0.30292648,\n",
       "        -0.00619059], dtype=float32),\n",
       " array([[ 1.1619931 ],\n",
       "        [-0.44791213],\n",
       "        [ 0.28763774],\n",
       "        [-0.57016414],\n",
       "        [ 1.5528307 ],\n",
       "        [-0.73808867]], dtype=float32),\n",
       " array([-1.0147334], dtype=float32)]"
      ]
     },
     "execution_count": 135,
     "metadata": {},
     "output_type": "execute_result"
    }
   ],
   "source": [
    "# get the weights\n",
    "classifier.get_weights()"
   ]
  },
  {
   "cell_type": "code",
   "execution_count": null,
   "metadata": {},
   "outputs": [],
   "source": []
  }
 ],
 "metadata": {
  "kernelspec": {
   "display_name": "base",
   "language": "python",
   "name": "python3"
  },
  "language_info": {
   "codemirror_mode": {
    "name": "ipython",
    "version": 3
   },
   "file_extension": ".py",
   "mimetype": "text/x-python",
   "name": "python",
   "nbconvert_exporter": "python",
   "pygments_lexer": "ipython3",
   "version": "3.9.13"
  },
  "orig_nbformat": 4
 },
 "nbformat": 4,
 "nbformat_minor": 2
}
